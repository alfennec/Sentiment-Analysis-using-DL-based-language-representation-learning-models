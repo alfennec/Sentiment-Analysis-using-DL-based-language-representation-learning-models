{
  "nbformat": 4,
  "nbformat_minor": 0,
  "metadata": {
    "accelerator": "GPU",
    "colab": {
      "name": "bert.ipynb",
      "provenance": [],
      "collapsed_sections": [],
      "toc_visible": true
    },
    "kernelspec": {
      "display_name": "Python 3",
      "language": "python",
      "name": "python3"
    },
    "language_info": {
      "codemirror_mode": {
        "name": "ipython",
        "version": 3
      },
      "file_extension": ".py",
      "mimetype": "text/x-python",
      "name": "python",
      "nbconvert_exporter": "python",
      "pygments_lexer": "ipython3",
      "version": "3.7.1"
    }
  },
  "cells": [
    {
      "cell_type": "markdown",
      "metadata": {
        "id": "gS1TV7cOYnWM"
      },
      "source": [
        "# Emotion Classification in short texts with BERT\n",
        "\n",
        "Applying BERT to the problem of multiclass text classification. Our dataset consists of written dialogs, messages and short stories. Each dialog utterance/message is labeled with one of the five emotion categories: joy, anger, sadness, fear, neutral. \n",
        "\n",
        "## Workflow: \n",
        "1. Import Data\n",
        "2. Data preprocessing and downloading BERT\n",
        "3. Training and validation\n",
        "4. Saving the model\n",
        "\n",
        "Multiclass text classification with BERT and [ktrain](https://github.com/amaiya/ktrain). Use google colab for a free GPU \n",
        "\n",
        "👋  **Let's start** "
      ]
    },
    {
      "cell_type": "code",
      "metadata": {
        "id": "3ckm3TIdYnxF",
        "outputId": "330b67b5-37fb-4062-bd8e-68c39d9f358b",
        "colab": {
          "base_uri": "https://localhost:8080/",
          "height": 1000
        }
      },
      "source": [
        "# install ktrain on Google Colab\n",
        "!pip3 install ktrain"
      ],
      "execution_count": null,
      "outputs": [
        {
          "output_type": "stream",
          "text": [
            "Collecting ktrain\n",
            "\u001b[?25l  Downloading https://files.pythonhosted.org/packages/79/11/168a692027a2be036676d8ba24f0b7b9dfb18a9deb3daf10e6a0cfd2917d/ktrain-0.22.1.tar.gz (25.2MB)\n",
            "\u001b[K     |████████████████████████████████| 25.3MB 129kB/s \n",
            "\u001b[?25hRequirement already satisfied: scikit-learn>=0.21.3 in /usr/local/lib/python3.6/dist-packages (from ktrain) (0.22.2.post1)\n",
            "Requirement already satisfied: matplotlib>=3.0.0 in /usr/local/lib/python3.6/dist-packages (from ktrain) (3.2.2)\n",
            "Requirement already satisfied: pandas>=1.0.1 in /usr/local/lib/python3.6/dist-packages (from ktrain) (1.1.2)\n",
            "Requirement already satisfied: fastprogress>=0.1.21 in /usr/local/lib/python3.6/dist-packages (from ktrain) (1.0.0)\n",
            "Collecting keras_bert>=0.86.0\n",
            "  Downloading https://files.pythonhosted.org/packages/e2/7f/95fabd29f4502924fa3f09ff6538c5a7d290dfef2c2fe076d3d1a16e08f0/keras-bert-0.86.0.tar.gz\n",
            "Requirement already satisfied: requests in /usr/local/lib/python3.6/dist-packages (from ktrain) (2.23.0)\n",
            "Requirement already satisfied: joblib in /usr/local/lib/python3.6/dist-packages (from ktrain) (0.16.0)\n",
            "Collecting langdetect\n",
            "\u001b[?25l  Downloading https://files.pythonhosted.org/packages/56/a3/8407c1e62d5980188b4acc45ef3d94b933d14a2ebc9ef3505f22cf772570/langdetect-1.0.8.tar.gz (981kB)\n",
            "\u001b[K     |████████████████████████████████| 983kB 37.3MB/s \n",
            "\u001b[?25hRequirement already satisfied: jieba in /usr/local/lib/python3.6/dist-packages (from ktrain) (0.42.1)\n",
            "Collecting cchardet\n",
            "\u001b[?25l  Downloading https://files.pythonhosted.org/packages/1e/c5/7e1a0d7b4afd83d6f8de794fce82820ec4c5136c6d52e14000822681a842/cchardet-2.1.6-cp36-cp36m-manylinux2010_x86_64.whl (241kB)\n",
            "\u001b[K     |████████████████████████████████| 245kB 48.8MB/s \n",
            "\u001b[?25hRequirement already satisfied: networkx>=2.3 in /usr/local/lib/python3.6/dist-packages (from ktrain) (2.5)\n",
            "Requirement already satisfied: bokeh in /usr/local/lib/python3.6/dist-packages (from ktrain) (2.1.1)\n",
            "Collecting seqeval\n",
            "  Downloading https://files.pythonhosted.org/packages/93/e5/b7705156a77f742cfe4fc6f22d0c71591edb2d243328dff2f8fc0f933ab6/seqeval-0.0.19.tar.gz\n",
            "Requirement already satisfied: packaging in /usr/local/lib/python3.6/dist-packages (from ktrain) (20.4)\n",
            "Collecting transformers>=3.1.0\n",
            "\u001b[?25l  Downloading https://files.pythonhosted.org/packages/19/22/aff234f4a841f8999e68a7a94bdd4b60b4cebcfeca5d67d61cd08c9179de/transformers-3.3.1-py3-none-any.whl (1.1MB)\n",
            "\u001b[K     |████████████████████████████████| 1.1MB 47.8MB/s \n",
            "\u001b[?25hRequirement already satisfied: ipython in /usr/local/lib/python3.6/dist-packages (from ktrain) (5.5.0)\n",
            "Collecting syntok\n",
            "  Downloading https://files.pythonhosted.org/packages/8c/76/a49e73a04b3e3a14ce232e8e28a1587f8108baa665644fe8c40e307e792e/syntok-1.3.1.tar.gz\n",
            "Collecting whoosh\n",
            "\u001b[?25l  Downloading https://files.pythonhosted.org/packages/ba/19/24d0f1f454a2c1eb689ca28d2f178db81e5024f42d82729a4ff6771155cf/Whoosh-2.7.4-py2.py3-none-any.whl (468kB)\n",
            "\u001b[K     |████████████████████████████████| 471kB 50.1MB/s \n",
            "\u001b[?25hRequirement already satisfied: numpy>=1.11.0 in /usr/local/lib/python3.6/dist-packages (from scikit-learn>=0.21.3->ktrain) (1.18.5)\n",
            "Requirement already satisfied: scipy>=0.17.0 in /usr/local/lib/python3.6/dist-packages (from scikit-learn>=0.21.3->ktrain) (1.4.1)\n",
            "Requirement already satisfied: pyparsing!=2.0.4,!=2.1.2,!=2.1.6,>=2.0.1 in /usr/local/lib/python3.6/dist-packages (from matplotlib>=3.0.0->ktrain) (2.4.7)\n",
            "Requirement already satisfied: python-dateutil>=2.1 in /usr/local/lib/python3.6/dist-packages (from matplotlib>=3.0.0->ktrain) (2.8.1)\n",
            "Requirement already satisfied: kiwisolver>=1.0.1 in /usr/local/lib/python3.6/dist-packages (from matplotlib>=3.0.0->ktrain) (1.2.0)\n",
            "Requirement already satisfied: cycler>=0.10 in /usr/local/lib/python3.6/dist-packages (from matplotlib>=3.0.0->ktrain) (0.10.0)\n",
            "Requirement already satisfied: pytz>=2017.2 in /usr/local/lib/python3.6/dist-packages (from pandas>=1.0.1->ktrain) (2018.9)\n",
            "Requirement already satisfied: Keras>=2.4.3 in /usr/local/lib/python3.6/dist-packages (from keras_bert>=0.86.0->ktrain) (2.4.3)\n",
            "Collecting keras-transformer>=0.38.0\n",
            "  Downloading https://files.pythonhosted.org/packages/89/6c/d6f0c164f4cc16fbc0d0fea85f5526e87a7d2df7b077809e422a7e626150/keras-transformer-0.38.0.tar.gz\n",
            "Requirement already satisfied: chardet<4,>=3.0.2 in /usr/local/lib/python3.6/dist-packages (from requests->ktrain) (3.0.4)\n",
            "Requirement already satisfied: idna<3,>=2.5 in /usr/local/lib/python3.6/dist-packages (from requests->ktrain) (2.10)\n",
            "Requirement already satisfied: urllib3!=1.25.0,!=1.25.1,<1.26,>=1.21.1 in /usr/local/lib/python3.6/dist-packages (from requests->ktrain) (1.24.3)\n",
            "Requirement already satisfied: certifi>=2017.4.17 in /usr/local/lib/python3.6/dist-packages (from requests->ktrain) (2020.6.20)\n",
            "Requirement already satisfied: six in /usr/local/lib/python3.6/dist-packages (from langdetect->ktrain) (1.15.0)\n",
            "Requirement already satisfied: decorator>=4.3.0 in /usr/local/lib/python3.6/dist-packages (from networkx>=2.3->ktrain) (4.4.2)\n",
            "Requirement already satisfied: PyYAML>=3.10 in /usr/local/lib/python3.6/dist-packages (from bokeh->ktrain) (3.13)\n",
            "Requirement already satisfied: typing-extensions>=3.7.4 in /usr/local/lib/python3.6/dist-packages (from bokeh->ktrain) (3.7.4.3)\n",
            "Requirement already satisfied: tornado>=5.1 in /usr/local/lib/python3.6/dist-packages (from bokeh->ktrain) (5.1.1)\n",
            "Requirement already satisfied: Jinja2>=2.7 in /usr/local/lib/python3.6/dist-packages (from bokeh->ktrain) (2.11.2)\n",
            "Requirement already satisfied: pillow>=4.0 in /usr/local/lib/python3.6/dist-packages (from bokeh->ktrain) (7.0.0)\n",
            "Requirement already satisfied: filelock in /usr/local/lib/python3.6/dist-packages (from transformers>=3.1.0->ktrain) (3.0.12)\n",
            "Requirement already satisfied: regex!=2019.12.17 in /usr/local/lib/python3.6/dist-packages (from transformers>=3.1.0->ktrain) (2019.12.20)\n",
            "Collecting sentencepiece!=0.1.92\n",
            "\u001b[?25l  Downloading https://files.pythonhosted.org/packages/d4/a4/d0a884c4300004a78cca907a6ff9a5e9fe4f090f5d95ab341c53d28cbc58/sentencepiece-0.1.91-cp36-cp36m-manylinux1_x86_64.whl (1.1MB)\n",
            "\u001b[K     |████████████████████████████████| 1.1MB 51.4MB/s \n",
            "\u001b[?25hCollecting tokenizers==0.8.1.rc2\n",
            "\u001b[?25l  Downloading https://files.pythonhosted.org/packages/80/83/8b9fccb9e48eeb575ee19179e2bdde0ee9a1904f97de5f02d19016b8804f/tokenizers-0.8.1rc2-cp36-cp36m-manylinux1_x86_64.whl (3.0MB)\n",
            "\u001b[K     |████████████████████████████████| 3.0MB 48.5MB/s \n",
            "\u001b[?25hRequirement already satisfied: dataclasses; python_version < \"3.7\" in /usr/local/lib/python3.6/dist-packages (from transformers>=3.1.0->ktrain) (0.7)\n",
            "Collecting sacremoses\n",
            "\u001b[?25l  Downloading https://files.pythonhosted.org/packages/7d/34/09d19aff26edcc8eb2a01bed8e98f13a1537005d31e95233fd48216eed10/sacremoses-0.0.43.tar.gz (883kB)\n",
            "\u001b[K     |████████████████████████████████| 890kB 51.4MB/s \n",
            "\u001b[?25hRequirement already satisfied: tqdm>=4.27 in /usr/local/lib/python3.6/dist-packages (from transformers>=3.1.0->ktrain) (4.41.1)\n",
            "Requirement already satisfied: simplegeneric>0.8 in /usr/local/lib/python3.6/dist-packages (from ipython->ktrain) (0.8.1)\n",
            "Requirement already satisfied: pygments in /usr/local/lib/python3.6/dist-packages (from ipython->ktrain) (2.6.1)\n",
            "Requirement already satisfied: setuptools>=18.5 in /usr/local/lib/python3.6/dist-packages (from ipython->ktrain) (50.3.0)\n",
            "Requirement already satisfied: pickleshare in /usr/local/lib/python3.6/dist-packages (from ipython->ktrain) (0.7.5)\n",
            "Requirement already satisfied: prompt-toolkit<2.0.0,>=1.0.4 in /usr/local/lib/python3.6/dist-packages (from ipython->ktrain) (1.0.18)\n",
            "Requirement already satisfied: traitlets>=4.2 in /usr/local/lib/python3.6/dist-packages (from ipython->ktrain) (4.3.3)\n",
            "Requirement already satisfied: pexpect; sys_platform != \"win32\" in /usr/local/lib/python3.6/dist-packages (from ipython->ktrain) (4.8.0)\n",
            "Requirement already satisfied: h5py in /usr/local/lib/python3.6/dist-packages (from Keras>=2.4.3->keras_bert>=0.86.0->ktrain) (2.10.0)\n",
            "Collecting keras-pos-embd>=0.11.0\n",
            "  Downloading https://files.pythonhosted.org/packages/09/70/b63ed8fc660da2bb6ae29b9895401c628da5740c048c190b5d7107cadd02/keras-pos-embd-0.11.0.tar.gz\n",
            "Collecting keras-multi-head>=0.27.0\n",
            "  Downloading https://files.pythonhosted.org/packages/e6/32/45adf2549450aca7867deccfa04af80a0ab1ca139af44b16bc669e0e09cd/keras-multi-head-0.27.0.tar.gz\n",
            "Collecting keras-layer-normalization>=0.14.0\n",
            "  Downloading https://files.pythonhosted.org/packages/a4/0e/d1078df0494bac9ce1a67954e5380b6e7569668f0f3b50a9531c62c1fc4a/keras-layer-normalization-0.14.0.tar.gz\n",
            "Collecting keras-position-wise-feed-forward>=0.6.0\n",
            "  Downloading https://files.pythonhosted.org/packages/e3/59/f0faa1037c033059e7e9e7758e6c23b4d1c0772cd48de14c4b6fd4033ad5/keras-position-wise-feed-forward-0.6.0.tar.gz\n",
            "Collecting keras-embed-sim>=0.8.0\n",
            "  Downloading https://files.pythonhosted.org/packages/57/ef/61a1e39082c9e1834a2d09261d4a0b69f7c818b359216d4e1912b20b1c86/keras-embed-sim-0.8.0.tar.gz\n",
            "Requirement already satisfied: MarkupSafe>=0.23 in /usr/local/lib/python3.6/dist-packages (from Jinja2>=2.7->bokeh->ktrain) (1.1.1)\n",
            "Requirement already satisfied: click in /usr/local/lib/python3.6/dist-packages (from sacremoses->transformers>=3.1.0->ktrain) (7.1.2)\n",
            "Requirement already satisfied: wcwidth in /usr/local/lib/python3.6/dist-packages (from prompt-toolkit<2.0.0,>=1.0.4->ipython->ktrain) (0.2.5)\n",
            "Requirement already satisfied: ipython-genutils in /usr/local/lib/python3.6/dist-packages (from traitlets>=4.2->ipython->ktrain) (0.2.0)\n",
            "Requirement already satisfied: ptyprocess>=0.5 in /usr/local/lib/python3.6/dist-packages (from pexpect; sys_platform != \"win32\"->ipython->ktrain) (0.6.0)\n",
            "Collecting keras-self-attention==0.46.0\n",
            "  Downloading https://files.pythonhosted.org/packages/15/6b/c804924a056955fa1f3ff767945187103cfc851ba9bd0fc5a6c6bc18e2eb/keras-self-attention-0.46.0.tar.gz\n",
            "Building wheels for collected packages: ktrain, keras-bert, langdetect, seqeval, syntok, keras-transformer, sacremoses, keras-pos-embd, keras-multi-head, keras-layer-normalization, keras-position-wise-feed-forward, keras-embed-sim, keras-self-attention\n",
            "  Building wheel for ktrain (setup.py) ... \u001b[?25l\u001b[?25hdone\n",
            "  Created wheel for ktrain: filename=ktrain-0.22.1-cp36-none-any.whl size=25271136 sha256=7d11559ad6914dc9a38e2b531547cbd95f3b71024ec3a68731c766b7d9c29b11\n",
            "  Stored in directory: /root/.cache/pip/wheels/ff/10/c0/d2b89a0090d36b31f8a7f278d29ff20b47fad3585e3a3b1d8b\n",
            "  Building wheel for keras-bert (setup.py) ... \u001b[?25l\u001b[?25hdone\n",
            "  Created wheel for keras-bert: filename=keras_bert-0.86.0-cp36-none-any.whl size=34145 sha256=b48d2a02b448e9049edc303a700f5804476564556db6c4474d51dc38c5963c62\n",
            "  Stored in directory: /root/.cache/pip/wheels/66/f0/b1/748128b58562fc9e31b907bb5e2ab6a35eb37695e83911236b\n",
            "  Building wheel for langdetect (setup.py) ... \u001b[?25l\u001b[?25hdone\n",
            "  Created wheel for langdetect: filename=langdetect-1.0.8-cp36-none-any.whl size=993195 sha256=923b068fffb9d3d8dcc6bc15f8caea47051cadff599c11ab71b746e748900776\n",
            "  Stored in directory: /root/.cache/pip/wheels/8d/b3/aa/6d99de9f3841d7d3d40a60ea06e6d669e8e5012e6c8b947a57\n",
            "  Building wheel for seqeval (setup.py) ... \u001b[?25l\u001b[?25hdone\n",
            "  Created wheel for seqeval: filename=seqeval-0.0.19-cp36-none-any.whl size=9919 sha256=bfac429700c6fc985690b4f2dca42cc420adf26fd9c39e9cddb68eeb6af3783a\n",
            "  Stored in directory: /root/.cache/pip/wheels/8d/1f/bf/1198beceed805a2099060975f6281d1b01046dd279e19c97be\n",
            "  Building wheel for syntok (setup.py) ... \u001b[?25l\u001b[?25hdone\n",
            "  Created wheel for syntok: filename=syntok-1.3.1-cp36-none-any.whl size=20919 sha256=f28608e367ebb2df08a80abb5dacbf2cd7302734016d45886dcd9680be735f05\n",
            "  Stored in directory: /root/.cache/pip/wheels/51/c6/a4/be1920586c49469846bcd2888200bdecfe109ec421dab9be2d\n",
            "  Building wheel for keras-transformer (setup.py) ... \u001b[?25l\u001b[?25hdone\n",
            "  Created wheel for keras-transformer: filename=keras_transformer-0.38.0-cp36-none-any.whl size=12942 sha256=617e1d0bceb2c19c412590c4fed844b2b7eeff2f765a868775ab9c6c6bd9ed65\n",
            "  Stored in directory: /root/.cache/pip/wheels/e5/fb/3a/37b2b9326c799aa010ae46a04ddb04f320d8c77c0b7e837f4e\n",
            "  Building wheel for sacremoses (setup.py) ... \u001b[?25l\u001b[?25hdone\n",
            "  Created wheel for sacremoses: filename=sacremoses-0.0.43-cp36-none-any.whl size=893257 sha256=7aacc9fcb0af265ac93e94fad27299ba3c0254957ee603974f9d67027baac387\n",
            "  Stored in directory: /root/.cache/pip/wheels/29/3c/fd/7ce5c3f0666dab31a50123635e6fb5e19ceb42ce38d4e58f45\n",
            "  Building wheel for keras-pos-embd (setup.py) ... \u001b[?25l\u001b[?25hdone\n",
            "  Created wheel for keras-pos-embd: filename=keras_pos_embd-0.11.0-cp36-none-any.whl size=7554 sha256=c6305ed639525b71c4220c47bb3fbd9ff4f803f8bb17274ddd57dbb9efa70ac2\n",
            "  Stored in directory: /root/.cache/pip/wheels/5b/a1/a0/ce6b1d49ba1a9a76f592e70cf297b05c96bc9f418146761032\n",
            "  Building wheel for keras-multi-head (setup.py) ... \u001b[?25l\u001b[?25hdone\n",
            "  Created wheel for keras-multi-head: filename=keras_multi_head-0.27.0-cp36-none-any.whl size=15612 sha256=391c48cdf88b8d3066827ce2aeba639bb731da3604e76493ab153db1b4c915c1\n",
            "  Stored in directory: /root/.cache/pip/wheels/b5/b4/49/0a0c27dcb93c13af02fea254ff51d1a43a924dd4e5b7a7164d\n",
            "  Building wheel for keras-layer-normalization (setup.py) ... \u001b[?25l\u001b[?25hdone\n",
            "  Created wheel for keras-layer-normalization: filename=keras_layer_normalization-0.14.0-cp36-none-any.whl size=5268 sha256=26360a17c2e22ba4d2f0665c198456d4243f787bf5f6bd745dceef0902926673\n",
            "  Stored in directory: /root/.cache/pip/wheels/54/80/22/a638a7d406fd155e507aa33d703e3fa2612b9eb7bb4f4fe667\n",
            "  Building wheel for keras-position-wise-feed-forward (setup.py) ... \u001b[?25l\u001b[?25hdone\n",
            "  Created wheel for keras-position-wise-feed-forward: filename=keras_position_wise_feed_forward-0.6.0-cp36-none-any.whl size=5626 sha256=11833c1ab71c6da1addbbe811a3dc9890da1241a31060a50e4194a1a2e5c0ef1\n",
            "  Stored in directory: /root/.cache/pip/wheels/39/e2/e2/3514fef126a00574b13bc0b9e23891800158df3a3c19c96e3b\n",
            "  Building wheel for keras-embed-sim (setup.py) ... \u001b[?25l\u001b[?25hdone\n",
            "  Created wheel for keras-embed-sim: filename=keras_embed_sim-0.8.0-cp36-none-any.whl size=4559 sha256=d81ae346723e8cc9f7487fc92a687262ad1eef745d5b9fab61d791fbc6ab0442\n",
            "  Stored in directory: /root/.cache/pip/wheels/49/45/8b/c111f6cc8bec253e984677de73a6f4f5d2f1649f42aac191c8\n",
            "  Building wheel for keras-self-attention (setup.py) ... \u001b[?25l\u001b[?25hdone\n",
            "  Created wheel for keras-self-attention: filename=keras_self_attention-0.46.0-cp36-none-any.whl size=17278 sha256=f365d13fa6c8ac2b690185745176c213ebf92267f1decc97148e77c474917c45\n",
            "  Stored in directory: /root/.cache/pip/wheels/d2/2e/80/fec4c05eb23c8e13b790e26d207d6e0ffe8013fad8c6bdd4d2\n",
            "Successfully built ktrain keras-bert langdetect seqeval syntok keras-transformer sacremoses keras-pos-embd keras-multi-head keras-layer-normalization keras-position-wise-feed-forward keras-embed-sim keras-self-attention\n",
            "Installing collected packages: keras-pos-embd, keras-self-attention, keras-multi-head, keras-layer-normalization, keras-position-wise-feed-forward, keras-embed-sim, keras-transformer, keras-bert, langdetect, cchardet, seqeval, sentencepiece, tokenizers, sacremoses, transformers, syntok, whoosh, ktrain\n",
            "Successfully installed cchardet-2.1.6 keras-bert-0.86.0 keras-embed-sim-0.8.0 keras-layer-normalization-0.14.0 keras-multi-head-0.27.0 keras-pos-embd-0.11.0 keras-position-wise-feed-forward-0.6.0 keras-self-attention-0.46.0 keras-transformer-0.38.0 ktrain-0.22.1 langdetect-1.0.8 sacremoses-0.0.43 sentencepiece-0.1.91 seqeval-0.0.19 syntok-1.3.1 tokenizers-0.8.1rc2 transformers-3.3.1 whoosh-2.7.4\n"
          ],
          "name": "stdout"
        }
      ]
    },
    {
      "cell_type": "code",
      "metadata": {
        "id": "FYJa3hJiYnWP"
      },
      "source": [
        "import pandas as pd\n",
        "import numpy as np\n",
        "\n",
        "import ktrain\n",
        "from ktrain import text"
      ],
      "execution_count": null,
      "outputs": []
    },
    {
      "cell_type": "markdown",
      "metadata": {
        "id": "33Sa8kVvYnWR"
      },
      "source": [
        "## 1. Import Data"
      ]
    },
    {
      "cell_type": "code",
      "metadata": {
        "id": "xGRw5awSX7mZ",
        "outputId": "2a57683a-6366-45f2-cec4-e3fb75eeb278",
        "colab": {
          "base_uri": "https://localhost:8080/",
          "height": 529
        }
      },
      "source": [
        "def shuffle(df, n=1, axis=0):     \n",
        "    df = df.copy()\n",
        "    for _ in range(n):\n",
        "      df.apply(np.random.shuffle, axis=axis)\n",
        "    return df\n",
        "\n",
        "data = pd.read_csv('/content/data/dataset.csv', encoding='utf-8', sep=';')\n",
        "\n",
        "# sort the dataframe\n",
        "data.sort_values(by='Emotion', axis=0, inplace=True)\n",
        "\n",
        "# set the index to be this and don't drop\n",
        "data.set_index(keys=['Emotion'], drop=False,inplace=True)\n",
        "\n",
        "# get a list of names\n",
        "emotions=data['Emotion'].unique().tolist()\n",
        "\n",
        "# now we can perform a lookup on a 'view' of the dataframe\n",
        "joys = shuffle(data.loc[data.Emotion=='joy'])\n",
        "fears = shuffle(data.loc[data.Emotion=='fear'])\n",
        "angers = shuffle(data.loc[data.Emotion=='anger'])\n",
        "sadnesss = shuffle(data.loc[data.Emotion=='sadness'])\n",
        "neutrals = shuffle(data.loc[data.Emotion=='neutral'])\n",
        "\n",
        "joys_train = joys.iloc[0:int(joys.shape[0]*0.8)]\n",
        "joys_test = joys.iloc[int(joys.shape[0]*0.8)+1:joys.shape[0]]\n",
        "\n",
        "fears_train = fears.iloc[0:int(fears.shape[0]*0.8)]\n",
        "fears_test = fears.iloc[int(fears.shape[0]*0.8)+1:fears.shape[0]]\n",
        "\n",
        "angers_train = angers.iloc[0:int(angers.shape[0]*0.8)]\n",
        "angers_test = angers.iloc[int(angers.shape[0]*0.8)+1:angers.shape[0]]\n",
        "\n",
        "sadnesss_train = sadnesss.iloc[0:int(sadnesss.shape[0]*0.8)]\n",
        "sadnesss_test = sadnesss.iloc[int(sadnesss.shape[0]*0.8)+1:sadnesss.shape[0]]\n",
        "\n",
        "neutrals_train = neutrals.iloc[0:int(neutrals.shape[0]*0.8)]\n",
        "neutrals_test = neutrals.iloc[int(neutrals.shape[0]*0.8)+1:neutrals.shape[0]]\n",
        "\n",
        "data_train = pd.concat([joys_train, fears_train, angers_train, sadnesss_train, neutrals_train])\n",
        "data_test = pd.concat([joys_test, fears_test, angers_test, sadnesss_test, neutrals_test])\n",
        "\n",
        "print(data_train.shape)\n",
        "print(data_test.shape)\n",
        "\n",
        "X_train = data_train.Text.tolist()\n",
        "X_test = data_test.Text.tolist()\n",
        "\n",
        "y_train = data_train.Emotion.tolist()\n",
        "y_test = data_test.Emotion.tolist()\n",
        "\n",
        "data = data_train.append(data_test, ignore_index=True)\n",
        "\n",
        "class_names = ['joy', 'sadness', 'fear', 'anger', 'neutral']\n",
        "\n",
        "print('size of training set: %s' % (len(data_train['Text'])))\n",
        "print('size of validation set: %s' % (len(data_test['Text'])))\n",
        "print(data.Emotion.value_counts())\n",
        "\n",
        "data.head(10)"
      ],
      "execution_count": null,
      "outputs": [
        {
          "output_type": "stream",
          "text": [
            "(113418, 2)\n",
            "(28353, 2)\n",
            "size of training set: 113418\n",
            "size of validation set: 28353\n",
            "neutral    94166\n",
            "joy        25907\n",
            "sadness    13161\n",
            "anger       4910\n",
            "fear        3627\n",
            "Name: Emotion, dtype: int64\n"
          ],
          "name": "stdout"
        },
        {
          "output_type": "execute_result",
          "data": {
            "text/html": [
              "<div>\n",
              "<style scoped>\n",
              "    .dataframe tbody tr th:only-of-type {\n",
              "        vertical-align: middle;\n",
              "    }\n",
              "\n",
              "    .dataframe tbody tr th {\n",
              "        vertical-align: top;\n",
              "    }\n",
              "\n",
              "    .dataframe thead th {\n",
              "        text-align: right;\n",
              "    }\n",
              "</style>\n",
              "<table border=\"1\" class=\"dataframe\">\n",
              "  <thead>\n",
              "    <tr style=\"text-align: right;\">\n",
              "      <th></th>\n",
              "      <th>Emotion</th>\n",
              "      <th>Text</th>\n",
              "    </tr>\n",
              "  </thead>\n",
              "  <tbody>\n",
              "    <tr>\n",
              "      <th>0</th>\n",
              "      <td>joy</td>\n",
              "      <td>i opened the first window whilst listening to ...</td>\n",
              "    </tr>\n",
              "    <tr>\n",
              "      <th>1</th>\n",
              "      <td>joy</td>\n",
              "      <td>@chachada1 Yeah im following you, Hun! Goodnight</td>\n",
              "    </tr>\n",
              "    <tr>\n",
              "      <th>2</th>\n",
              "      <td>joy</td>\n",
              "      <td>Yeah , I know . A friend in need is a friend ...</td>\n",
              "    </tr>\n",
              "    <tr>\n",
              "      <th>3</th>\n",
              "      <td>joy</td>\n",
              "      <td>We have tons of updates including pics of Rob ...</td>\n",
              "    </tr>\n",
              "    <tr>\n",
              "      <th>4</th>\n",
              "      <td>joy</td>\n",
              "      <td>OK . Thanks .</td>\n",
              "    </tr>\n",
              "    <tr>\n",
              "      <th>5</th>\n",
              "      <td>joy</td>\n",
              "      <td>Of course !</td>\n",
              "    </tr>\n",
              "    <tr>\n",
              "      <th>6</th>\n",
              "      <td>joy</td>\n",
              "      <td>Um , that ’ s good .</td>\n",
              "    </tr>\n",
              "    <tr>\n",
              "      <th>7</th>\n",
              "      <td>joy</td>\n",
              "      <td>i feel like getting away from all the friendly...</td>\n",
              "    </tr>\n",
              "    <tr>\n",
              "      <th>8</th>\n",
              "      <td>joy</td>\n",
              "      <td>i always have been when im not feeling sociabl...</td>\n",
              "    </tr>\n",
              "    <tr>\n",
              "      <th>9</th>\n",
              "      <td>joy</td>\n",
              "      <td>happy mothers day to all the yummy mummies on ...</td>\n",
              "    </tr>\n",
              "  </tbody>\n",
              "</table>\n",
              "</div>"
            ],
            "text/plain": [
              "  Emotion                                               Text\n",
              "0     joy  i opened the first window whilst listening to ...\n",
              "1     joy   @chachada1 Yeah im following you, Hun! Goodnight\n",
              "2     joy   Yeah , I know . A friend in need is a friend ...\n",
              "3     joy  We have tons of updates including pics of Rob ...\n",
              "4     joy                                     OK . Thanks . \n",
              "5     joy                                       Of course ! \n",
              "6     joy                              Um , that ’ s good . \n",
              "7     joy  i feel like getting away from all the friendly...\n",
              "8     joy  i always have been when im not feeling sociabl...\n",
              "9     joy  happy mothers day to all the yummy mummies on ..."
            ]
          },
          "metadata": {
            "tags": []
          },
          "execution_count": 3
        }
      ]
    },
    {
      "cell_type": "code",
      "metadata": {
        "id": "gBxd1kYYYnWU"
      },
      "source": [
        "encoding = {\n",
        "    'joy': 0,\n",
        "    'sadness': 1,\n",
        "    'fear': 2,\n",
        "    'anger': 3,\n",
        "    'neutral': 4\n",
        "}\n",
        "\n",
        "# Integer values for each class\n",
        "y_train = [encoding[x] for x in y_train]\n",
        "y_test = [encoding[x] for x in y_test]"
      ],
      "execution_count": null,
      "outputs": []
    },
    {
      "cell_type": "markdown",
      "metadata": {
        "id": "pcuN5eklYnWW"
      },
      "source": [
        "## 2. Data preprocessing\n",
        "\n",
        "* The text must be preprocessed in a specific way for use with BERT. This is accomplished by setting preprocess_mode to ‘bert’. The BERT model and vocabulary will be automatically downloaded\n",
        "\n",
        "* BERT can handle a maximum length of 512, but let's use less to reduce memory and improve speed. "
      ]
    },
    {
      "cell_type": "code",
      "metadata": {
        "id": "IQnZnKQmZA3U",
        "outputId": "91cad5ff-02ea-444e-bb32-0459e316cf97",
        "colab": {
          "base_uri": "https://localhost:8080/",
          "height": 289
        }
      },
      "source": [
        "(x_train,  y_train), (x_test, y_test), preproc = text.texts_from_array(x_train=X_train, y_train=y_train,\n",
        "                                                                       x_test=X_test, y_test=y_test,\n",
        "                                                                       class_names=class_names,\n",
        "                                                                       preprocess_mode='bert',\n",
        "                                                                       maxlen=350, \n",
        "                                                                       max_features=135000)"
      ],
      "execution_count": null,
      "outputs": [
        {
          "output_type": "stream",
          "text": [
            "downloading pretrained BERT model (uncased_L-12_H-768_A-12.zip)...\n",
            "[██████████████████████████████████████████████████]\n",
            "extracting pretrained BERT model...\n",
            "done.\n",
            "\n",
            "cleanup downloaded zip...\n",
            "done.\n",
            "\n",
            "preprocessing train...\n",
            "language: en\n"
          ],
          "name": "stdout"
        },
        {
          "output_type": "display_data",
          "data": {
            "text/html": [
              "done."
            ],
            "text/plain": [
              "<IPython.core.display.HTML object>"
            ]
          },
          "metadata": {
            "tags": []
          }
        },
        {
          "output_type": "stream",
          "text": [
            "Is Multi-Label? False\n",
            "preprocessing test...\n",
            "language: en\n"
          ],
          "name": "stdout"
        },
        {
          "output_type": "display_data",
          "data": {
            "text/html": [
              "done."
            ],
            "text/plain": [
              "<IPython.core.display.HTML object>"
            ]
          },
          "metadata": {
            "tags": []
          }
        },
        {
          "output_type": "stream",
          "text": [
            "task: text classification\n"
          ],
          "name": "stdout"
        }
      ]
    },
    {
      "cell_type": "markdown",
      "metadata": {
        "id": "V4fuvHPnYnWY"
      },
      "source": [
        "## 2. Training and validation\n"
      ]
    },
    {
      "cell_type": "markdown",
      "metadata": {
        "id": "1KwBXM9BYnWZ"
      },
      "source": [
        "Loading the pretrained BERT for text classification "
      ]
    },
    {
      "cell_type": "code",
      "metadata": {
        "id": "1cGb2CaOZBNS",
        "outputId": "560c3f76-1f3c-4b6d-d27d-7983af12c4b7",
        "colab": {
          "base_uri": "https://localhost:8080/",
          "height": 68
        }
      },
      "source": [
        "model = text.text_classifier('bert', train_data=(x_train, y_train), preproc=preproc)"
      ],
      "execution_count": null,
      "outputs": [
        {
          "output_type": "stream",
          "text": [
            "Is Multi-Label? False\n",
            "maxlen is 350\n",
            "done.\n"
          ],
          "name": "stdout"
        }
      ]
    },
    {
      "cell_type": "markdown",
      "metadata": {
        "id": "JkgvS2pvYnWb"
      },
      "source": [
        "Wrap it in a Learner object"
      ]
    },
    {
      "cell_type": "code",
      "metadata": {
        "id": "zu8uv-xKYnWc"
      },
      "source": [
        "learner = ktrain.get_learner(model, train_data=(x_train, y_train), \n",
        "                             val_data=(x_test, y_test),\n",
        "                             batch_size=6)"
      ],
      "execution_count": null,
      "outputs": []
    },
    {
      "cell_type": "code",
      "metadata": {
        "id": "IXpnPWj6aZeK"
      },
      "source": [
        "import tensorflow as tf\n",
        "from datetime import datetime\n",
        "from tensorflow.keras.callbacks import ModelCheckpoint, EarlyStopping, ReduceLROnPlateau, CSVLogger, TensorBoard\n",
        "import os\n",
        "\n",
        "basedir = \"/content/logs/\"\n",
        "logdir = os.path.join(\"/content/logs\", datetime.now().strftime(\"%Y%m%d-%H%M%S\"))\n",
        "tf.debugging.experimental.enable_dump_debug_info(logdir)\n",
        "\n",
        "callbacks = [\n",
        "ModelCheckpoint(filepath=basedir+'checkpoint1-{epoch:02d}.hdf5', verbose=2, save_best_only=True, monitor='accuracy',mode='max'),\n",
        "CSVLogger(basedir+'model_1trainanalysis1.csv',separator=',', append=False),\n",
        "EarlyStopping(monitor='val_loss', min_delta=1e-6, patience=1, verbose=2, mode='auto'),\n",
        "TensorBoard(log_dir=logdir,histogram_freq=1)]"
      ],
      "execution_count": null,
      "outputs": []
    },
    {
      "cell_type": "markdown",
      "metadata": {
        "id": "h4YY0JBAYnWd"
      },
      "source": [
        "Train the model. More about tuning learning rates [here](https://github.com/amaiya/ktrain/blob/master/tutorial-02-tuning-learning-rates.ipynb)"
      ]
    },
    {
      "cell_type": "code",
      "metadata": {
        "id": "jD-2RpgkZN_n",
        "outputId": "9d543029-feac-488f-97bf-63fc0c9a0ada",
        "colab": {
          "base_uri": "https://localhost:8080/",
          "height": 241
        }
      },
      "source": [
        "learner.fit_onecycle(2e-5, 2, callbacks = callbacks)"
      ],
      "execution_count": null,
      "outputs": [
        {
          "output_type": "stream",
          "text": [
            "\n",
            "\n",
            "begin training using onecycle policy with max lr of 2e-05...\n",
            "Epoch 1/2\n",
            "18903/18903 [==============================] - ETA: 0s - loss: 0.4533 - accuracy: 0.8292\n",
            "Epoch 00001: accuracy improved from -inf to 0.82920, saving model to /content/logs/checkpoint1-01.hdf5\n",
            "18903/18903 [==============================] - 15033s 795ms/step - loss: 0.4533 - accuracy: 0.8292 - val_loss: 0.4297 - val_accuracy: 0.8246\n",
            "Epoch 2/2\n",
            "18903/18903 [==============================] - ETA: 0s - loss: 0.3256 - accuracy: 0.8728\n",
            "Epoch 00002: accuracy improved from 0.82920 to 0.87275, saving model to /content/logs/checkpoint1-02.hdf5\n",
            "18903/18903 [==============================] - 14874s 787ms/step - loss: 0.3256 - accuracy: 0.8728 - val_loss: 0.3551 - val_accuracy: 0.8612\n"
          ],
          "name": "stdout"
        },
        {
          "output_type": "execute_result",
          "data": {
            "text/plain": [
              "<tensorflow.python.keras.callbacks.History at 0x7fc34187d390>"
            ]
          },
          "metadata": {
            "tags": []
          },
          "execution_count": 9
        }
      ]
    },
    {
      "cell_type": "markdown",
      "metadata": {
        "id": "xHhddIieYnWg"
      },
      "source": [
        "Validation"
      ]
    },
    {
      "cell_type": "code",
      "metadata": {
        "id": "2s4ao_e2i4ld",
        "outputId": "1f807442-893f-43c6-de91-67bc52d46eff",
        "colab": {
          "base_uri": "https://localhost:8080/",
          "height": 306
        }
      },
      "source": [
        "learner.validate(val_data=(x_test, y_test), class_names=class_names)"
      ],
      "execution_count": 15,
      "outputs": [
        {
          "output_type": "stream",
          "text": [
            "              precision    recall  f1-score   support\n",
            "\n",
            "         joy       0.76      0.71      0.73      5181\n",
            "     sadness       0.81      0.75      0.78      2632\n",
            "        fear       0.92      0.85      0.88       725\n",
            "       anger       0.84      0.77      0.80       982\n",
            "     neutral       0.89      0.92      0.91     18833\n",
            "\n",
            "    accuracy                           0.86     28353\n",
            "   macro avg       0.84      0.80      0.82     28353\n",
            "weighted avg       0.86      0.86      0.86     28353\n",
            "\n"
          ],
          "name": "stdout"
        },
        {
          "output_type": "execute_result",
          "data": {
            "text/plain": [
              "array([[ 3664,    90,     6,    10,  1411],\n",
              "       [  106,  1971,    13,    45,   497],\n",
              "       [    9,    28,   615,    39,    34],\n",
              "       [   22,    46,    16,   760,   138],\n",
              "       [ 1043,   311,    15,    55, 17409]])"
            ]
          },
          "metadata": {
            "tags": []
          },
          "execution_count": 15
        }
      ]
    },
    {
      "cell_type": "markdown",
      "metadata": {
        "id": "MI0nWZlhYnWi"
      },
      "source": [
        "#### Testing with other inputs"
      ]
    },
    {
      "cell_type": "code",
      "metadata": {
        "id": "6eDpFIoXjlE8",
        "outputId": "a23effcb-6bef-4771-8a3f-11825c9406ae",
        "colab": {
          "base_uri": "https://localhost:8080/",
          "height": 34
        }
      },
      "source": [
        "predictor = ktrain.get_predictor(learner.model, preproc)\n",
        "predictor.get_classes()"
      ],
      "execution_count": 17,
      "outputs": [
        {
          "output_type": "execute_result",
          "data": {
            "text/plain": [
              "['joy', 'sadness', 'fear', 'anger', 'neutral']"
            ]
          },
          "metadata": {
            "tags": []
          },
          "execution_count": 17
        }
      ]
    },
    {
      "cell_type": "code",
      "metadata": {
        "id": "xI3WQZfpp3eA",
        "outputId": "125ec443-a4a9-43e7-d484-0f1aeb0e9580",
        "colab": {
          "base_uri": "https://localhost:8080/",
          "height": 34
        }
      },
      "source": [
        "from sklearn.metrics import precision_recall_fscore_support\n",
        "\n",
        "predictions = model.predict(x_test)\n",
        "predictions = np.argmax(predictions, axis=1)\n",
        "predictions = [class_names[pred] for pred in predictions]\n",
        "\n",
        "print(precision_recall_fscore_support(data_test.Emotion, predictions, average='weighted'))"
      ],
      "execution_count": 18,
      "outputs": [
        {
          "output_type": "stream",
          "text": [
            "(0.8589680861077176, 0.8612492505202272, 0.8596000596826674, None)\n"
          ],
          "name": "stdout"
        }
      ]
    },
    {
      "cell_type": "code",
      "metadata": {
        "id": "EvphPV9AtfdN",
        "outputId": "e840cbb7-7a81-40e0-9ce5-953f8b45ff9b",
        "colab": {
          "base_uri": "https://localhost:8080/",
          "height": 357
        }
      },
      "source": [
        "!nvidia-smi"
      ],
      "execution_count": 19,
      "outputs": [
        {
          "output_type": "stream",
          "text": [
            "Fri Oct  9 18:57:24 2020       \n",
            "+-----------------------------------------------------------------------------+\n",
            "| NVIDIA-SMI 455.23.05    Driver Version: 418.67       CUDA Version: 10.1     |\n",
            "|-------------------------------+----------------------+----------------------+\n",
            "| GPU  Name        Persistence-M| Bus-Id        Disp.A | Volatile Uncorr. ECC |\n",
            "| Fan  Temp  Perf  Pwr:Usage/Cap|         Memory-Usage | GPU-Util  Compute M. |\n",
            "|                               |                      |               MIG M. |\n",
            "|===============================+======================+======================|\n",
            "|   0  Tesla T4            Off  | 00000000:00:04.0 Off |                    0 |\n",
            "| N/A   75C    P0    35W /  70W |   8515MiB / 15079MiB |      0%      Default |\n",
            "|                               |                      |                 ERR! |\n",
            "+-------------------------------+----------------------+----------------------+\n",
            "                                                                               \n",
            "+-----------------------------------------------------------------------------+\n",
            "| Processes:                                                                  |\n",
            "|  GPU   GI   CI        PID   Type   Process name                  GPU Memory |\n",
            "|        ID   ID                                                   Usage      |\n",
            "|=============================================================================|\n",
            "|  No running processes found                                                 |\n",
            "+-----------------------------------------------------------------------------+\n"
          ],
          "name": "stdout"
        }
      ]
    },
    {
      "cell_type": "code",
      "metadata": {
        "id": "w5KQfwX8xLLu",
        "outputId": "47a7accf-6603-45bb-82e0-bba6210e5b54",
        "colab": {
          "base_uri": "https://localhost:8080/",
          "height": 34
        }
      },
      "source": [
        "import time \n",
        "\n",
        "message = 'delivery was hour late and my pizza was cold!'\n",
        "\n",
        "start_time = time.time() \n",
        "prediction = predictor.predict(message)\n",
        "\n",
        "print('predicted: {} ({:.2f})'.format(prediction, (time.time() - start_time)))"
      ],
      "execution_count": 25,
      "outputs": [
        {
          "output_type": "display_data",
          "data": {
            "text/html": [
              ""
            ],
            "text/plain": [
              "<IPython.core.display.HTML object>"
            ]
          },
          "metadata": {
            "tags": []
          }
        },
        {
          "output_type": "stream",
          "text": [
            "predicted: sadness (0.20)\n"
          ],
          "name": "stdout"
        }
      ]
    },
    {
      "cell_type": "markdown",
      "metadata": {
        "id": "rusM_SzpYnWm"
      },
      "source": [
        "## 4. Saving Bert model\n"
      ]
    },
    {
      "cell_type": "code",
      "metadata": {
        "id": "YBkGko4Sz2ef"
      },
      "source": [
        "# let's save the predictor for later use\n",
        "predictor.save(\"models2/bert_model\")"
      ],
      "execution_count": 21,
      "outputs": []
    },
    {
      "cell_type": "code",
      "metadata": {
        "id": "fjhwgDaVtF60",
        "outputId": "d80c2e90-c3c7-4c92-8db4-737fc1ed2343",
        "colab": {
          "base_uri": "https://localhost:8080/",
          "height": 34
        }
      },
      "source": [
        "from google.colab import drive\n",
        "drive.mount('/content/drive')"
      ],
      "execution_count": 22,
      "outputs": [
        {
          "output_type": "stream",
          "text": [
            "Mounted at /content/drive\n"
          ],
          "name": "stdout"
        }
      ]
    },
    {
      "cell_type": "code",
      "metadata": {
        "id": "57R5UdoHtK-U",
        "outputId": "83bc6c42-e1cb-4654-e459-4d9884f34dd6",
        "colab": {
          "base_uri": "https://localhost:8080/",
          "height": 479
        }
      },
      "source": [
        "%cp -av /content/logs \"/content/drive/My Drive/dd3\""
      ],
      "execution_count": 24,
      "outputs": [
        {
          "output_type": "stream",
          "text": [
            "'/content/logs' -> '/content/drive/My Drive/dd3/logs'\n",
            "'/content/logs/20201009-092551' -> '/content/drive/My Drive/dd3/logs/20201009-092551'\n",
            "'/content/logs/20201009-092551/tfdbg_events.1602235551.b5fb4ee70369.source_files' -> '/content/drive/My Drive/dd3/logs/20201009-092551/tfdbg_events.1602235551.b5fb4ee70369.source_files'\n",
            "'/content/logs/20201009-092551/tfdbg_events.1602235551.b5fb4ee70369.stack_frames' -> '/content/drive/My Drive/dd3/logs/20201009-092551/tfdbg_events.1602235551.b5fb4ee70369.stack_frames'\n",
            "'/content/logs/20201009-092551/tfdbg_events.1602235551.b5fb4ee70369.graphs' -> '/content/drive/My Drive/dd3/logs/20201009-092551/tfdbg_events.1602235551.b5fb4ee70369.graphs'\n",
            "'/content/logs/20201009-092551/tfdbg_events.1602235551.b5fb4ee70369.metadata' -> '/content/drive/My Drive/dd3/logs/20201009-092551/tfdbg_events.1602235551.b5fb4ee70369.metadata'\n",
            "'/content/logs/20201009-092551/tfdbg_events.1602235551.b5fb4ee70369.execution' -> '/content/drive/My Drive/dd3/logs/20201009-092551/tfdbg_events.1602235551.b5fb4ee70369.execution'\n",
            "'/content/logs/20201009-092551/tfdbg_events.1602235551.b5fb4ee70369.graph_execution_traces' -> '/content/drive/My Drive/dd3/logs/20201009-092551/tfdbg_events.1602235551.b5fb4ee70369.graph_execution_traces'\n",
            "'/content/logs/20201009-092551/train' -> '/content/drive/My Drive/dd3/logs/20201009-092551/train'\n",
            "'/content/logs/20201009-092551/train/events.out.tfevents.1602235552.b5fb4ee70369.100.8464.v2' -> '/content/drive/My Drive/dd3/logs/20201009-092551/train/events.out.tfevents.1602235552.b5fb4ee70369.100.8464.v2'\n",
            "'/content/logs/20201009-092551/train/plugins' -> '/content/drive/My Drive/dd3/logs/20201009-092551/train/plugins'\n",
            "'/content/logs/20201009-092551/train/plugins/profile' -> '/content/drive/My Drive/dd3/logs/20201009-092551/train/plugins/profile'\n",
            "'/content/logs/20201009-092551/train/plugins/profile/2020_10_09_09_27_04' -> '/content/drive/My Drive/dd3/logs/20201009-092551/train/plugins/profile/2020_10_09_09_27_04'\n",
            "'/content/logs/20201009-092551/train/plugins/profile/2020_10_09_09_27_04/b5fb4ee70369.trace.json.gz' -> '/content/drive/My Drive/dd3/logs/20201009-092551/train/plugins/profile/2020_10_09_09_27_04/b5fb4ee70369.trace.json.gz'\n",
            "'/content/logs/20201009-092551/train/plugins/profile/2020_10_09_09_27_04/b5fb4ee70369.memory_profile.json.gz' -> '/content/drive/My Drive/dd3/logs/20201009-092551/train/plugins/profile/2020_10_09_09_27_04/b5fb4ee70369.memory_profile.json.gz'\n",
            "'/content/logs/20201009-092551/train/plugins/profile/2020_10_09_09_27_04/b5fb4ee70369.xplane.pb' -> '/content/drive/My Drive/dd3/logs/20201009-092551/train/plugins/profile/2020_10_09_09_27_04/b5fb4ee70369.xplane.pb'\n",
            "'/content/logs/20201009-092551/train/plugins/profile/2020_10_09_09_27_04/b5fb4ee70369.overview_page.pb' -> '/content/drive/My Drive/dd3/logs/20201009-092551/train/plugins/profile/2020_10_09_09_27_04/b5fb4ee70369.overview_page.pb'\n",
            "'/content/logs/20201009-092551/train/plugins/profile/2020_10_09_09_27_04/b5fb4ee70369.input_pipeline.pb' -> '/content/drive/My Drive/dd3/logs/20201009-092551/train/plugins/profile/2020_10_09_09_27_04/b5fb4ee70369.input_pipeline.pb'\n",
            "'/content/logs/20201009-092551/train/plugins/profile/2020_10_09_09_27_04/b5fb4ee70369.tensorflow_stats.pb' -> '/content/drive/My Drive/dd3/logs/20201009-092551/train/plugins/profile/2020_10_09_09_27_04/b5fb4ee70369.tensorflow_stats.pb'\n",
            "'/content/logs/20201009-092551/train/plugins/profile/2020_10_09_09_27_04/b5fb4ee70369.kernel_stats.pb' -> '/content/drive/My Drive/dd3/logs/20201009-092551/train/plugins/profile/2020_10_09_09_27_04/b5fb4ee70369.kernel_stats.pb'\n",
            "'/content/logs/20201009-092551/train/events.out.tfevents.1602235624.b5fb4ee70369.profile-empty' -> '/content/drive/My Drive/dd3/logs/20201009-092551/train/events.out.tfevents.1602235624.b5fb4ee70369.profile-empty'\n",
            "'/content/logs/20201009-092551/validation' -> '/content/drive/My Drive/dd3/logs/20201009-092551/validation'\n",
            "'/content/logs/20201009-092551/validation/events.out.tfevents.1602249765.b5fb4ee70369.100.220545.v2' -> '/content/drive/My Drive/dd3/logs/20201009-092551/validation/events.out.tfevents.1602249765.b5fb4ee70369.100.220545.v2'\n",
            "'/content/logs/model_1trainanalysis1.csv' -> '/content/drive/My Drive/dd3/logs/model_1trainanalysis1.csv'\n",
            "'/content/logs/checkpoint1-01.hdf5' -> '/content/drive/My Drive/dd3/logs/checkpoint1-01.hdf5'\n",
            "'/content/logs/checkpoint1-02.hdf5' -> '/content/drive/My Drive/dd3/logs/checkpoint1-02.hdf5'\n"
          ],
          "name": "stdout"
        }
      ]
    },
    {
      "cell_type": "markdown",
      "metadata": {
        "id": "qQo2P03tYnWo"
      },
      "source": [
        "Done! to reload the predictor use: ktrain.load_predictor"
      ]
    }
  ]
}